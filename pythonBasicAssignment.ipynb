{
  "nbformat": 4,
  "nbformat_minor": 0,
  "metadata": {
    "colab": {
      "provenance": []
    },
    "kernelspec": {
      "name": "python3",
      "display_name": "Python 3"
    },
    "language_info": {
      "name": "python"
    }
  },
  "cells": [
    {
      "cell_type": "markdown",
      "source": [
        "##**Q1-> What is Python, and why is it popular?**\n",
        "\n",
        "Ans -> Python is a high-level, interpreted programming language known for its simplicity and readability. It was created by Guido van Rossum and first released in 1991. Python is often used for web development, data analysis, machine learning, automation, and scripting, among other things.\n",
        "\n",
        "Why is Python so popular->\n",
        "\n",
        "1-Readability and Simple Syntax: Python’s syntax is clear and easy to learn, making it an excellent choice for beginners.\n",
        "\n",
        "2-Versatility: It’s widely used in many fields, such as web development, data science, AI/ML, scientific computing, and more.\n",
        "\n",
        "3-Large Ecosystem: Python has a rich set of libraries and frameworks (like Django for web apps, Pandas for data analysis, TensorFlow for machine learning) that help developers solve complex problems without reinventing the wheel.\n",
        "\n",
        "4-Cross-Platform: Python is platform-independent, meaning code written in Python can run on different operating systems with little or no modification.\n",
        "\n",
        "5-Strong Community: Python has an active, supportive community, with a wealth of tutorials, documentation, and forums for help.\n",
        "\n",
        "6-Open Source: Python is free to use, and its open-source nature means a constant stream of updates and improvements."
      ],
      "metadata": {
        "id": "pKI7SQOLUylz"
      }
    },
    {
      "cell_type": "markdown",
      "source": [
        "##**Q2->  What is an interpreter in Python**\n",
        "\n",
        "Ans-> An interpreter in Python is a program that reads and executes Python code line by line. Instead of compiling the code into machine language all at once (like some other languages such as C or Java), the Python interpreter translates the code into an intermediate form and executes it directly. This makes Python a dynamically typed, interpreted language, rather than a compiled one.\n",
        "\n",
        "Example:\n",
        "\n",
        "When you run a Python script like python myscript.py, the Python interpreter:\n",
        "\n",
        "Reads the script file (myscript.py),\n",
        "\n",
        "Converts it to bytecode,\n",
        "\n",
        "Executes it line by line."
      ],
      "metadata": {
        "id": "K8VHe-xyVLu3"
      }
    },
    {
      "cell_type": "markdown",
      "source": [
        "##**Q3 -> What are pre-defined keywords in Python?**\n",
        "\n",
        "Ans->\n",
        "\n",
        "In Python, pre-defined keywords (also known as reserved words) are special words that have a predefined meaning and cannot be used as identifiers (variable names, function names, etc.). These keywords are part of the syntax of the Python language and are used to define the structure and behavior of programs.\n",
        "\n",
        "List of keywords in Python:\n",
        "\n",
        "False   ,   await   ,   else    ,   import  ,   pass,\n",
        "None    ,   break    ,  except  ,   in     ,    raise,\n",
        "True   ,    class   ,   finally  ,  is    ,     return,\n",
        "and    ,    continue ,  for     ,   lambda  ,   try,\n",
        "as     ,    def    ,    from    ,   nonlocal  , while,\n",
        "assert ,    del    ,    global  ,  not   ,     with,\n",
        "async  ,    elif    ,   if     ,    or    ,     yield,\n",
        "\n"
      ],
      "metadata": {
        "id": "hqx5jX6KVyHy"
      }
    },
    {
      "cell_type": "markdown",
      "source": [
        "##**Q4 -> Can Keywords be used as variable name?**\n",
        "\n",
        "Ans ->\n",
        "No, keywords **cannot** be used as variable names in Python. Keywords are reserved words that have specific meanings in the Python language, and they define the structure or behavior of the program. Because of their special role, using them as variable names would create confusion and lead to errors.\n",
        "\n",
        "For example:\n",
        "\n",
        "```python\n",
        "if = 10  # This will result in a syntax error!\n",
        "```\n",
        "\n",
        "Python will throw a **SyntaxError** because `if` is a keyword and it cannot be used as a variable name.\n",
        "\n",
        "### Why can't keywords be used as variable names?\n",
        "Keywords are part of the syntax that Python uses to understand and execute your program. Allowing keywords to be used as variable names would break the language's ability to correctly interpret and execute code.\n",
        "\n",
        "For instance:\n",
        "- `if`, `else`, `elif` are used for control flow.\n",
        "- `def` is used to define a function.\n",
        "- `class` is used to define a class.\n",
        "\n",
        "Trying to use them as identifiers would clash with the language’s core functionality.\n",
        "\n",
        "### Safe variable names:\n",
        "You should always choose names that are **not** keywords. For example:\n",
        "```python\n",
        "my_if = 10  # This is valid\n",
        "```\n",
        "\n"
      ],
      "metadata": {
        "id": "duFlEkM3Wy4x"
      }
    },
    {
      "cell_type": "markdown",
      "source": [
        "## **Q5-> What is mutability in Python?**\n",
        "\n",
        "Ans->\n",
        "Mutability in Python refers to whether an object's value can be changed after it has been created. Based on mutability, Python objects are classified into **mutable** and **immutable** types.\n",
        "\n",
        "### Mutable Objects ->\n",
        "Mutable objects can be modified after creation without changing their identity (memory address). Examples include:\n",
        "- **Lists** (`list`)\n",
        "- **Dictionaries** (`dict`)\n",
        "- **Sets** (`set`)\n",
        "- **Bytearrays** (`bytearray`)\n",
        "\n",
        "#### **Example of Mutability**\n",
        "```python\n",
        "my_list = [1, 2, 3]\n",
        "print(id(my_list))  # Memory address before modification\n",
        "\n",
        "my_list.append(4)\n",
        "print(my_list)  # [1, 2, 3, 4]\n",
        "print(id(my_list))  # Memory address remains the same\n",
        "```\n",
        "Here, the content of `my_list` changes, but the memory address remains unchanged.\n",
        "\n",
        "---\n",
        "\n",
        "### **Immutable Objects**\n",
        "Immutable objects cannot be modified after creation. Any operation that tries to modify an immutable object creates a new object instead of modifying the original one. Examples include:\n",
        "- **Integers** (`int`)\n",
        "- **Floats** (`float`)\n",
        "- **Strings** (`str`)\n",
        "- **Tuples** (`tuple`)\n",
        "- **Frozen sets** (`frozenset`)\n",
        "- **Bytes** (`bytes`)\n",
        "\n",
        "#### **Example of Immutability**\n",
        "```python\n",
        "my_str = \"hello\"\n",
        "print(id(my_str))  # Memory address before modification\n",
        "\n",
        "my_str += \" world\"\n",
        "print(my_str)  # \"hello world\"\n",
        "print(id(my_str))  # New memory address\n",
        "```\n",
        "Here, `my_str` was not modified in place; instead, a new string object was created.\n",
        "\n",
        "---\n",
        "\n"
      ],
      "metadata": {
        "id": "SDjrjnvxXXBG"
      }
    },
    {
      "cell_type": "markdown",
      "source": [
        "## **Q6-> Why are lists mutable, but tuples are immutable?**\n",
        "\n",
        "Ans->\n",
        "Lists are **mutable**, while tuples are **immutable** because of how they are designed and stored in memory. The main reason lies in their **internal implementation and intended use cases**.\n",
        "\n",
        "---\n",
        "\n",
        "## 1. Lists are Mutable\n",
        "Lists in Python are implemented as **dynamic arrays**. This means:\n",
        "- They allow modification **in place** (changing elements, appending, deleting).\n",
        "- Python maintains a reference to the list object, and modifications affect the same object in memory.\n",
        "\n",
        "### Example: Lists can be modified\n",
        "```python\n",
        "my_list = [1, 2, 3]\n",
        "print(id(my_list))  # Memory address before modification\n",
        "\n",
        "my_list.append(4)  # Modifying the list\n",
        "print(my_list)  # [1, 2, 3, 4]\n",
        "print(id(my_list))  # Memory address remains the same\n",
        "```\n",
        "Since lists support operations like `append()`, `remove()`, and `pop()`, they are designed to be **mutable**.\n",
        "\n",
        "---\n",
        "\n",
        "## 2. Tuples are Immutable\n",
        "Tuples, on the other hand, are **stored in a fixed memory structure**. When a tuple is created:\n",
        "- Python **allocates a fixed amount of memory** for it.\n",
        "- Any change to a tuple would require creating a new object, which contradicts its fixed structure.\n",
        "\n",
        "### Example: Tuples cannot be modified\n",
        "```python\n",
        "my_tuple = (1, 2, 3)\n",
        "print(id(my_tuple))  # Memory address before modification\n",
        "\n",
        "# my_tuple[0] = 100  #  TypeError: 'tuple' object does not support item assignment\n",
        "\n",
        "new_tuple = my_tuple + (4,)  # Creating a new tuple instead\n",
        "print(new_tuple)  # (1, 2, 3, 4)\n",
        "print(id(new_tuple))  # Different memory address\n",
        "```\n",
        "Here, modifying a tuple actually creates a new object.\n",
        "\n"
      ],
      "metadata": {
        "id": "3PqT1_2oX5Rb"
      }
    },
    {
      "cell_type": "markdown",
      "source": [
        "##**Q7 -> What is the difference between “==” and “is” operators in Python?**\n",
        "\n",
        "Ans->\n",
        "In Python, **`==` (Equality Operator)** and **`is` (Identity Operator)** are used for different purposes:\n",
        "\n",
        "**1. `==` (Equality Operator)**\n",
        "- **Checks if the values of two objects are the same**.\n",
        "- **Does not** consider whether they are stored at the same memory location.\n",
        "\n",
        " **Example: `==` checks for value equality**\n",
        "```python\n",
        "a = [1, 2, 3]\n",
        "b = [1, 2, 3]\n",
        "\n",
        "print(a == b)  #  True (Values are the same)\n",
        "print(a is b)  #  False (Different objects in memory)\n",
        "```\n",
        "Here, `a` and `b` contain the same values, so `a == b` returns `True`. However, they are different objects in memory, so `a is b` returns `False`.\n",
        "\n",
        "---\n",
        "\n",
        " **2. `is` (Identity Operator)**\n",
        "- **Checks if two variables reference the exact same object in memory**.\n",
        "- Used for **checking object identity**, not just value equality.\n",
        "\n",
        "**Example: `is` checks for identity**\n",
        "```python\n",
        "x = [10, 20, 30]\n",
        "y = x  # y now refers to the same object as x\n",
        "\n",
        "print(x is y)  #  True (Both reference the same object)\n",
        "print(x == y)  #  True (Values are also the same)\n",
        "```\n",
        "Here, `y` is assigned `x`, so both variables point to the same memory address.\n",
        "\n",
        "---\n",
        "\n",
        " **3. Special Case with Immutable Objects**\n",
        "\n",
        "Python **caches small immutable objects** (like small integers and short strings), so sometimes `is` may return `True` unexpectedly.\n",
        "\n",
        " **Example: Integers are cached**\n",
        "```python\n",
        "a = 100\n",
        "b = 100\n",
        "\n",
        "print(a is b)  #  True (Same memory reference due to caching)\n",
        "```\n",
        "But for large numbers:\n",
        "```python\n",
        "a = 1000\n",
        "b = 1000\n",
        "\n",
        "print(a is b)  #  False (Different memory addresses)\n",
        "```\n",
        "Python does **not** cache large integers, so different objects are created.\n",
        "\n",
        "---\n",
        "\n",
        "### **When to Use `==` vs. `is`**\n",
        "- Use **`==`** when you care about **values**.\n",
        "- Use **`is`** when you care about **identity** (e.g., checking `None` or singleton objects).\n",
        "\n",
        "#### **Example: Checking `None` correctly**\n",
        "```python\n",
        "x = None\n",
        "\n",
        "if x is None:  #  Correct way to check None\n",
        "    print(\"x is None\")\n",
        "```\n",
        "Using `x == None` is **not recommended**, as it can be overridden by custom objects.\n",
        "\n"
      ],
      "metadata": {
        "id": "BKMhRMI3Ym9j"
      }
    },
    {
      "cell_type": "markdown",
      "source": [
        "##**Q8-> What are logical operators in Python?**\n",
        "\n",
        "Ans->\n",
        "####**Logical Operators in Python**\n",
        "Logical operators in Python are used to combine conditional statements and evaluate expressions that return **Boolean values (`True` or `False`)**.\n",
        "\n",
        "Python has **three** logical operators:\n",
        "\n",
        "| Operator  | Description                                      | Example |\n",
        "|-----------|-------------------------------------------------|---------|\n",
        "| **`and`** | Returns `True` if **both** conditions are `True`  | `(5 > 3) and (10 > 5)  → True` |\n",
        "| **`or`**  | Returns `True` if **at least one** condition is `True` | `(5 > 3) or (10 < 5)  → True` |\n",
        "| **`not`** | Reverses the Boolean value (`True` → `False`, `False` → `True`) | `not (5 > 3) → False` |\n",
        "\n",
        "---\n",
        "\n",
        "#### **1. `and` (Logical AND)**\n",
        "- Returns `True` **only if both conditions are `True`**.\n",
        "- Otherwise, returns `False`.\n",
        "\n",
        "```python\n",
        "x = 10\n",
        "y = 5\n",
        "\n",
        "print(x > 5 and y < 10)  #  True (Both conditions are True)\n",
        "print(x > 5 and y > 10)  #  False (One condition is False)\n",
        "```\n",
        "\n",
        "---\n",
        "\n",
        "#### **2. `or` (Logical OR)**\n",
        "- Returns `True` **if at least one condition is `True`**.\n",
        "- Returns `False` **only if both conditions are `False`**.\n",
        "\n",
        "```python\n",
        "x = 10\n",
        "y = 5\n",
        "\n",
        "print(x > 5 or y > 10)  # True (One condition is True)\n",
        "print(x < 5 or y > 10)  # False (Both conditions are False)\n",
        "```\n",
        "\n",
        "---\n",
        "\n",
        "#### **3. `not` (Logical NOT)**\n",
        "- Reverses the Boolean value.\n",
        "\n",
        "```python\n",
        "x = True\n",
        "y = False\n",
        "\n",
        "print(not x)  #  False (Reverses True to False)\n",
        "print(not y)  #  True (Reverses False to True)\n",
        "```\n",
        "\n",
        "---\n",
        "\n",
        "\n",
        "#### **Use Cases**\n",
        "- **`and`**: Ensuring multiple conditions are met (e.g., authentication).\n",
        "- **`or`**: Checking if at least one condition is met (e.g., user permissions).\n",
        "- **`not`**: Flipping a condition (e.g., toggling a setting).\n"
      ],
      "metadata": {
        "id": "Y5pVAqNnabQ6"
      }
    },
    {
      "cell_type": "markdown",
      "source": [
        "##**Q9->What is type casting in Python?**\n",
        "**Ans ->**\n",
        "\n",
        "### **Type Casting in Python**  \n",
        "Type casting (or type conversion) in Python is the process of converting a variable from one data type to another. Python supports **two types** of type casting:  \n",
        "\n",
        "1. **Implicit Type Casting (Automatic Conversion)**  \n",
        "2. **Explicit Type Casting (Manual Conversion)**  \n",
        "\n",
        "---\n",
        "\n",
        "#### **1. Implicit Type Casting (Automatic Conversion)**\n",
        "Python **automatically** converts a variable from one data type to another **without losing data**. This usually happens when performing operations between different numeric types.\n",
        "\n",
        "#### **Example: Implicit Type Casting**\n",
        "```python\n",
        "x = 10   # Integer\n",
        "y = 2.5  # Float\n",
        "\n",
        "result = x + y  # Integer + Float → Float\n",
        "print(result)   # 12.5\n",
        "print(type(result))  # <class 'float'>\n",
        "```\n",
        "🔹 **Why does this happen?**  \n",
        "Python automatically **upcasts** the integer (`10`) to a float (`10.0`) to avoid loss of precision.\n",
        "\n",
        "---\n",
        "\n",
        "#### **2. Explicit Type Casting (Manual Conversion)**\n",
        "Explicit type casting is when you **manually** convert a variable from one type to another using built-in functions.\n",
        "\n",
        "#### **Common Type Casting Functions**\n",
        "| Function | Converts to |\n",
        "|----------|------------|\n",
        "| `int(x)`  | Integer |\n",
        "| `float(x)` | Float |\n",
        "| `str(x)`  | String |\n",
        "| `bool(x)` | Boolean |\n",
        "| `list(x)` | List |\n",
        "| `tuple(x)` | Tuple |\n",
        "| `set(x)`  | Set |\n",
        "\n",
        "#### **Example: Integer to Float**\n",
        "```python\n",
        "num = 5\n",
        "new_num = float(num)  # Manually converting int → float\n",
        "print(new_num)  # 5.0\n",
        "print(type(new_num))  # <class 'float'>\n",
        "```\n",
        "\n",
        "#### **Example: String to Integer**\n",
        "```python\n",
        "num_str = \"100\"\n",
        "num_int = int(num_str)  # Converting string → int\n",
        "print(num_int + 50)  # 150\n",
        "print(type(num_int))  # <class 'int'>\n",
        "```\n",
        "\n",
        "⚠ **Important:**  \n",
        "- The string **must** contain a valid number, otherwise it will raise an error.  \n",
        "  ```python\n",
        "  int(\"hello\")  #  ValueError: invalid literal for int()\n",
        "  ```\n",
        "\n",
        "#### **Example: List to Tuple**\n",
        "```python\n",
        "my_list = [1, 2, 3]\n",
        "my_tuple = tuple(my_list)\n",
        "print(my_tuple)  # (1, 2, 3)\n",
        "```\n"
      ],
      "metadata": {
        "id": "tj_0u-44bjIN"
      }
    },
    {
      "cell_type": "markdown",
      "source": [
        "###**Q10 What is the difference between implicit and explicit type casting?**\n",
        "\n",
        "**Ans ->**\n",
        "\n",
        "#### **Difference Between Implicit and Explicit Type Casting in Python**\n",
        "\n",
        "| Feature            | **Implicit Type Casting** | **Explicit Type Casting** |\n",
        "|--------------------|-------------------------|-------------------------|\n",
        "| **Definition**     | Python **automatically** converts one data type to another | The programmer **manually** converts a data type using functions |\n",
        "| **Data Loss**      | No data loss | Possible data loss |\n",
        "| **Example Types**  | Happens between compatible types (e.g., `int` → `float`) | Can convert between any types (`str` → `int`, `list` → `tuple`, etc.) |\n",
        "| **Risk of Errors** | No risk | Can raise errors if conversion is invalid |\n",
        "| **Performance**    | Faster (handled internally by Python) | May slow down code if used excessively |\n",
        "\n",
        "---\n"
      ],
      "metadata": {
        "id": "gHljHnBJcO4z"
      }
    },
    {
      "cell_type": "markdown",
      "source": [
        "##**Q11->What is the purpose of conditional statements in Python?**\n",
        "\n",
        "**Ans->**\n",
        "### **Purpose of Conditional Statements in Python**  \n",
        "Conditional statements in Python **control the flow of execution** based on whether a condition is `True` or `False`. They allow a program to **make decisions**, enabling different outcomes based on input or logic.\n",
        "\n",
        "---\n",
        "\n",
        "## **Why Use Conditional Statements?**\n",
        "- **Decision-making**: Execute different blocks of code based on conditions.\n",
        "- **Control Flow**: Avoid executing all code at once.\n",
        "- **Dynamic Behavior**: Make programs interactive (e.g., user authentication, form validation).\n",
        "\n",
        "---\n",
        "\n",
        "## **Types of Conditional Statements in Python**\n",
        "1. **`if` Statement** – Executes a block if a condition is `True`.\n",
        "2. **`if-else` Statement** – Executes one block if `True`, another if `False`.\n",
        "3. **`if-elif-else` Statement** – Checks multiple conditions.\n",
        "4. **Nested `if` Statements** – `if` inside another `if`.\n",
        "\n",
        "---\n",
        "\n",
        "#### **1. `if` Statement**\n",
        "Executes code only if the condition is `True`.\n",
        "\n",
        "```python\n",
        "age = 18\n",
        "\n",
        "if age >= 18:\n",
        "    print(\"You are an adult.\")  #  Executes because age is 18\n",
        "```\n",
        "\n",
        "---\n",
        "\n",
        "#### **2. `if-else` Statement**\n",
        "Executes one block if `True`, another if `False`.\n",
        "\n",
        "```python\n",
        "temperature = 30\n",
        "\n",
        "if temperature > 25:\n",
        "    print(\"It's a hot day.\")  #  Executes\n",
        "else:\n",
        "    print(\"It's a cool day.\")\n",
        "```\n",
        "\n",
        "---\n",
        "\n",
        "#### **3. `if-elif-else` Statement**\n",
        "Checks multiple conditions.\n",
        "\n",
        "```python\n",
        "score = 85\n",
        "\n",
        "if score >= 90:\n",
        "    print(\"Grade: A\")\n",
        "elif score >= 80:\n",
        "    print(\"Grade: B\")  #  Executes\n",
        "elif score >= 70:\n",
        "    print(\"Grade: C\")\n",
        "else:\n",
        "    print(\"Grade: F\")\n",
        "```\n",
        "\n",
        "---\n",
        "\n",
        "#### **4. Nested `if` Statements**\n",
        "An `if` inside another `if`.\n",
        "\n",
        "```python\n",
        "x = 10\n",
        "\n",
        "if x > 5:\n",
        "    print(\"x is greater than 5\")\n",
        "    if x > 8:\n",
        "        print(\"x is also greater than 8\")  #  Executes\n",
        "```\n",
        "\n",
        "---\n"
      ],
      "metadata": {
        "id": "9IxOnMuGcppB"
      }
    },
    {
      "cell_type": "markdown",
      "source": [
        "##**Q12 -> How does the elif statement work?**\n",
        "\n",
        "**Ans->**\n",
        "\n",
        "#### **How Does the `elif` Statement Work in Python?**  \n",
        "\n",
        "The `elif` (short for **\"else if\"**) statement is used to **check multiple conditions** in a sequence. It allows a program to execute **different blocks of code** based on the first condition that evaluates to `True`.  \n",
        "\n",
        "---\n",
        "\n",
        "#### **Syntax of `if-elif-else` Statement**  \n",
        "```python\n",
        "if condition1:\n",
        "    # Executes if condition1 is True\n",
        "elif condition2:\n",
        "    # Executes if condition1 is False and condition2 is True\n",
        "elif condition3:\n",
        "    # Executes if all previous conditions are False and condition3 is True\n",
        "else:\n",
        "    # Executes if none of the conditions are True\n",
        "```\n",
        "\n",
        "---\n",
        "\n",
        "#### **Example: Grading System**  \n",
        "```python\n",
        "score = 85\n",
        "\n",
        "if score >= 90:\n",
        "    print(\"Grade: A\")\n",
        "elif score >= 80:\n",
        "    print(\"Grade: B\")  #  This block executes because 85 >= 80\n",
        "elif score >= 70:\n",
        "    print(\"Grade: C\")\n",
        "else:\n",
        "    print(\"Grade: F\")\n",
        "```\n",
        "#### **How it Works:**\n",
        "1. The program first checks `if score >= 90`. (**False**)\n",
        "2. Then, it checks `elif score >= 80`. (**True**) → Executes `print(\"Grade: B\")`.\n",
        "3. The remaining conditions **are ignored** because a match was found.\n",
        "\n",
        "---\n",
        "\n",
        "\n",
        "\n",
        "#### **Why Use `elif` Instead of Multiple `if` Statements?**\n",
        "Using multiple `if` statements checks **every condition**, even after a match is found.\n",
        "\n",
        "```python\n",
        "num = 10\n",
        "\n",
        "if num > 0:\n",
        "    print(\"Positive number\")  #  Executes\n",
        "if num > 5:\n",
        "    print(\"Greater than 5\")   #  Also executes (unnecessary check)\n",
        "```\n",
        "With `elif`, once a condition is `True`, **no further checks are made**, improving efficiency.\n",
        "\n",
        "```python\n",
        "if num > 0:\n",
        "    print(\"Positive number\")  #  Executes\n",
        "elif num > 5:\n",
        "    print(\"Greater than 5\")   #  Skipped (since the first condition was already True)\n",
        "```\n",
        "\n",
        "---\n",
        "\n"
      ],
      "metadata": {
        "id": "FayC1BZie_Ll"
      }
    },
    {
      "cell_type": "markdown",
      "source": [
        "##**Q13->What is the difference between for and while loops?**\n",
        "\n",
        "**Ans->**\n",
        "### **Difference Between `for` and `while` Loops in Python**  \n",
        "\n",
        "Both **`for`** and **`while`** loops are used for iteration, but they have different use cases.  \n",
        "\n",
        "| Feature          | **`for` Loop** | **`while` Loop** |\n",
        "|-----------------|--------------|--------------|\n",
        "| **Use Case**   | Used when the number of iterations is known | Used when iterations depend on a condition |\n",
        "| **Condition**  | Iterates over a sequence (list, range, string, etc.) | Runs **as long as** a condition is `True` |\n",
        "| **Best For**   | Looping through items in a sequence | Repeating code until a specific condition is met |\n",
        "| **Can Run Infinitely?** | No (unless forced with `while True`) | Yes, if condition never becomes `False` |\n",
        "| **Example**    | `for i in range(5):` | `while x < 5:` |\n",
        "\n",
        "\n"
      ],
      "metadata": {
        "id": "gKIGVNhZizVu"
      }
    },
    {
      "cell_type": "markdown",
      "source": [
        "##**Q14->>Describe a scenario where a while loop is more suitable than a for loop?**\n",
        "\n",
        "**Ans->**\n",
        "### **Scenario Where a `while` Loop is More Suitable Than a `for` Loop**  \n",
        "\n",
        "A **`while` loop** is more suitable when **the number of iterations is unknown** and depends on a condition being met.  \n",
        "\n",
        "---\n",
        "\n",
        "### **Scenario: User Login System**  \n",
        "Imagine a program that asks a user for a password and only grants access **once the correct password is entered**. Since we **don’t know how many attempts** the user will need, a `while` loop is the best choice.\n",
        "\n",
        "### **Example: Login System with `while` Loop**\n",
        "```python\n",
        "correct_password = \"secure123\"\n",
        "user_input = \"\"\n",
        "\n",
        "while user_input != correct_password:  \n",
        "    user_input = input(\"Enter password: \")\n",
        "\n",
        "print(\"Access granted!\")\n",
        "```\n",
        "\n",
        "### **Why Use `while` Instead of `for`?**\n",
        " We **don’t know** how many attempts the user will take.  \n",
        " The loop **runs until the user enters the correct password**.  \n",
        " A `for` loop **wouldn’t work well**, since we don’t have a fixed number of iterations.\n",
        "\n",
        "---\n",
        "\n",
        "### **Other Real-World Scenarios for `while` Loops**\n",
        " **ATM PIN Entry** – Keep asking for the PIN until it’s correct.  \n",
        " **Game Loop** – Keep the game running until the user quits.  \n",
        " **Sensor Monitoring** – Keep checking a temperature sensor until it reaches a safe level.  "
      ],
      "metadata": {
        "id": "Kwfql1qxjezX"
      }
    },
    {
      "cell_type": "markdown",
      "source": [
        "#**Practical Questions**"
      ],
      "metadata": {
        "id": "6FnCr0OhkwBu"
      }
    },
    {
      "cell_type": "code",
      "source": [
        "# Q1 -> Write a Python program to print \"Hello, World!\n",
        "\n",
        "print(\"Hello, World!\")"
      ],
      "metadata": {
        "colab": {
          "base_uri": "https://localhost:8080/"
        },
        "id": "8BAeVdj3k-kp",
        "outputId": "de0bd964-2d02-4b45-f766-d5974509cf94"
      },
      "execution_count": 1,
      "outputs": [
        {
          "output_type": "stream",
          "name": "stdout",
          "text": [
            "Hello, World!\n"
          ]
        }
      ]
    },
    {
      "cell_type": "code",
      "source": [
        "# Q2-> Write a Python program that displays your name and age.\n",
        "name=input(\"Enter your name: \")\n",
        "age=int(input(\"Enter your age: \"))\n",
        "print(\"Name:\",name)\n",
        "print(\"Age:\",age)"
      ],
      "metadata": {
        "colab": {
          "base_uri": "https://localhost:8080/"
        },
        "id": "sN5gLleflT9E",
        "outputId": "043cda82-1d06-4d11-c353-7e45fa3d183e"
      },
      "execution_count": 2,
      "outputs": [
        {
          "output_type": "stream",
          "name": "stdout",
          "text": [
            "Enter your name: Rudraksh sharma\n",
            "Enter your age: 20\n",
            "Name: Rudraksh sharma\n",
            "Age: 20\n"
          ]
        }
      ]
    },
    {
      "cell_type": "code",
      "source": [
        "# Q3-> Write code to print all the pre-defined keywords in Python using the keyword library.\n",
        "\n",
        "help('keywords')"
      ],
      "metadata": {
        "colab": {
          "base_uri": "https://localhost:8080/"
        },
        "id": "JJvhWv5mlkMS",
        "outputId": "3df0d01b-ee1e-40c6-a87c-f3879499c8a0"
      },
      "execution_count": 6,
      "outputs": [
        {
          "output_type": "stream",
          "name": "stdout",
          "text": [
            "\n",
            "Here is a list of the Python keywords.  Enter any keyword to get more help.\n",
            "\n",
            "False               class               from                or\n",
            "None                continue            global              pass\n",
            "True                def                 if                  raise\n",
            "and                 del                 import              return\n",
            "as                  elif                in                  try\n",
            "assert              else                is                  while\n",
            "async               except              lambda              with\n",
            "await               finally             nonlocal            yield\n",
            "break               for                 not                 \n",
            "\n"
          ]
        }
      ]
    },
    {
      "cell_type": "code",
      "source": [
        "#  Q4-> Write a program that checks if a given word is a Python keyword.\n",
        "\n",
        "import keyword\n",
        "word=input(\"enter a word:\")\n",
        "if keyword.iskeyword(word):\n",
        "  print(word,\"is a keyword\")\n",
        "else:\n",
        "  print(word,\"is not a keyword\")"
      ],
      "metadata": {
        "colab": {
          "base_uri": "https://localhost:8080/"
        },
        "id": "Ei1X0Q1MmS6k",
        "outputId": "b02e1654-225e-4ec5-9f9e-f9c01e036455"
      },
      "execution_count": 7,
      "outputs": [
        {
          "output_type": "stream",
          "name": "stdout",
          "text": [
            "enter a word:if\n",
            "if is a keyword\n"
          ]
        }
      ]
    },
    {
      "cell_type": "code",
      "source": [
        "# Q5 -> Create a list and tuple in Python, and demonstrate how attempting to change an element works differently for each.\n",
        "lst1=[1,2,3,4]\n",
        "tup1=(6,7,8,9)\n",
        "lst1[2]=99\n",
        "lst1   # this will give lst1 as [1,2,99,4]\n",
        "tup1[2]=45\n",
        "tup1   # this will give error because tuple is immutable"
      ],
      "metadata": {
        "id": "EdzKYCItmwfc"
      },
      "execution_count": null,
      "outputs": []
    },
    {
      "cell_type": "code",
      "source": [
        "#Q6->  Write a function to demonstrate the behavior of mutable and immutable arguments\n",
        "\"\"\"\n",
        "Mutable types like lists, dictionaries, and sets can be modified inside the function.\n",
        "Immutable types like integers, floats, strings, and tuples cannot be modified in the same way, because the function only gets a copy of the value.\n",
        "\"\"\"\n",
        "def modify_list(lst):\n",
        "    print(\"Before modification:\", lst)\n",
        "    lst.append(100)  # Modifying the list\n",
        "    print(\"After modification:\", lst)\n",
        "\n",
        "# Test with a mutable object (list)\n",
        "my_list = [1, 2, 3]\n",
        "modify_list(my_list)\n",
        "\n",
        "print(\"Outside function, my_list:\", my_list)\n"
      ],
      "metadata": {
        "colab": {
          "base_uri": "https://localhost:8080/"
        },
        "id": "TZE7fCPFnppw",
        "outputId": "1f3c291b-cf53-4edd-b5c5-4645ce5877aa"
      },
      "execution_count": 15,
      "outputs": [
        {
          "output_type": "stream",
          "name": "stdout",
          "text": [
            "Before modification: [1, 2, 3]\n",
            "After modification: [1, 2, 3, 100]\n",
            "Outside function, my_list: [1, 2, 3, 100]\n"
          ]
        }
      ]
    },
    {
      "cell_type": "code",
      "source": [
        "#  Test with Immutable object(integer)\n",
        "def modify_int(num):\n",
        "  print(\"before modification\",num)\n",
        "  num+=10\n",
        "  print(\"after modification\",num)\n",
        "num=5\n",
        "modify_int(num)\n",
        "print(\"outside function\",num)"
      ],
      "metadata": {
        "colab": {
          "base_uri": "https://localhost:8080/"
        },
        "id": "IPNK8Baxq1rt",
        "outputId": "642fcd07-ca1b-4ffe-d29e-a5a95daa3b66"
      },
      "execution_count": 20,
      "outputs": [
        {
          "output_type": "stream",
          "name": "stdout",
          "text": [
            "before modification 5\n",
            "after modification 15\n",
            "outside function 5\n"
          ]
        }
      ]
    },
    {
      "cell_type": "code",
      "source": [
        "# Q7 -> Write a function to demonstrate the behavior of mutable and immutable arguments\n",
        "\n",
        "\"\"\"\n",
        "Mutable types like lists, dictionaries, and sets can be modified inside the function.\n",
        "Immutable types like integers, floats, strings, and tuples cannot be modified in the same way, because the function only gets a copy of the value.\n",
        "\"\"\"\n",
        "def modify_list(lst):\n",
        "    print(\"Before modification:\", lst)\n",
        "    lst.append(100)  # Modifying the list\n",
        "    print(\"After modification:\", lst)\n",
        "\n",
        "# Test with a mutable object (list)\n",
        "my_list = [1, 2, 3]\n",
        "modify_list(my_list)\n",
        "\n",
        "print(\"Outside function, my_list:\", my_list)\n"
      ],
      "metadata": {
        "id": "zPI9QZM6rfEd"
      },
      "execution_count": null,
      "outputs": []
    },
    {
      "cell_type": "code",
      "source": [
        "#  Test with Immutable object(integer)\n",
        "def modify_int(num):\n",
        "  print(\"before modification\",num)\n",
        "  num+=10\n",
        "  print(\"after modification\",num)\n",
        "num=5\n",
        "modify_int(num)\n",
        "print(\"outside function\",num)"
      ],
      "metadata": {
        "id": "uJ49NT4CrxPi"
      },
      "execution_count": null,
      "outputs": []
    },
    {
      "cell_type": "code",
      "source": [
        "# Q8-> Write a program to demonstrate the use of logical operators.\n",
        "# Function to demonstrate logical operators\n",
        "def logical_operators_demo(x, y):\n",
        "    # Using 'and' operator\n",
        "    if x > 0 and y > 0:\n",
        "        print(\"Both x and y are positive.\")\n",
        "\n",
        "    # Using 'or' operator\n",
        "    if x > 0 or y > 0:\n",
        "        print(\"At least one of x or y is positive.\")\n",
        "\n",
        "    # Using 'not' operator\n",
        "    if not (x == y):\n",
        "        print(\"x and y are not equal.\")\n",
        "\n",
        "# Test the function\n",
        "x = 5\n",
        "y = -3\n",
        "\n",
        "logical_operators_demo(x, y)"
      ],
      "metadata": {
        "colab": {
          "base_uri": "https://localhost:8080/"
        },
        "id": "hxJwnlR8rzkR",
        "outputId": "8ae8c58b-2449-43b7-cd13-5791e70eb473"
      },
      "execution_count": 21,
      "outputs": [
        {
          "output_type": "stream",
          "name": "stdout",
          "text": [
            "At least one of x or y is positive.\n",
            "x and y are not equal.\n"
          ]
        }
      ]
    },
    {
      "cell_type": "code",
      "source": [
        "# Q9-> Write a Python program to convert user input from string to integer, float, and boolean types.\n",
        "int_eger=int(input(\"enter an integer number:\"))\n",
        "fl_oat=float(input(\"enter a float number:\"))\n",
        "boo_lean=bool(input(\"enter a boolean value:\"))\n",
        "print(\"integer:\",int_eger)\n",
        "print(\"float:\",fl_oat)\n",
        "print(\"boolean:\",boo_lean)\n",
        "\n"
      ],
      "metadata": {
        "colab": {
          "base_uri": "https://localhost:8080/"
        },
        "id": "_pHehGUvsRyC",
        "outputId": "6c0f57d1-1914-4557-ea88-54972725cd40"
      },
      "execution_count": 27,
      "outputs": [
        {
          "output_type": "stream",
          "name": "stdout",
          "text": [
            "enter an integer number:1\n",
            "enter a float number:2\n",
            "enter a boolean value:\"\"\n",
            "integer: 1\n",
            "float: 2.0\n",
            "boolean: True\n"
          ]
        }
      ]
    },
    {
      "cell_type": "code",
      "source": [
        "# Q10 -> Write code to demonstrate type casting with list elements.\n",
        "lst1=[1,2,3.7,\"rudra\"]\n",
        "# implicit typecasting\n",
        "new=lst1[0]+lst1[2]\n",
        "new\n",
        "# explicit typecasting\n",
        "lst1[0]=str(lst1[0])\n",
        "lst1"
      ],
      "metadata": {
        "id": "llNKS6p_sqc6"
      },
      "execution_count": null,
      "outputs": []
    },
    {
      "cell_type": "code",
      "source": [
        "# Q11 -> Write a program that checks if a number is positive, negative, or zero.\n",
        "num=int(input(\"enter a number:\"))\n",
        "def check_num(num):\n",
        "  if num>0:\n",
        "    print(\"number is positive\")\n",
        "  elif num<0:\n",
        "    print(\"number is negative\")\n",
        "  else:\n",
        "    print(\"number is zero\")\n",
        "check_num(num)"
      ],
      "metadata": {
        "colab": {
          "base_uri": "https://localhost:8080/"
        },
        "id": "fXeTd3P8uNJB",
        "outputId": "ed1d84e7-9f69-45df-f1c9-ce578be2a0dd"
      },
      "execution_count": 33,
      "outputs": [
        {
          "output_type": "stream",
          "name": "stdout",
          "text": [
            "enter a number:1\n",
            "number is positive\n"
          ]
        }
      ]
    },
    {
      "cell_type": "code",
      "source": [
        "#Q12-> Write a for loop to print numbers from 1 to 10\n",
        "\n",
        "for i in range(1,11):\n",
        "  print(i)"
      ],
      "metadata": {
        "colab": {
          "base_uri": "https://localhost:8080/"
        },
        "id": "GrfiRdX4u31s",
        "outputId": "6df32c11-7aac-4512-c141-8b656559f23b"
      },
      "execution_count": 35,
      "outputs": [
        {
          "output_type": "stream",
          "name": "stdout",
          "text": [
            "1\n",
            "2\n",
            "3\n",
            "4\n",
            "5\n",
            "6\n",
            "7\n",
            "8\n",
            "9\n",
            "10\n"
          ]
        }
      ]
    },
    {
      "cell_type": "code",
      "source": [
        "# Q13 -> 0 Write a Python program to find the sum of all even numbers between 1 and 50\n",
        "sum=0\n",
        "for i in range(1,51):\n",
        "  if i%2==0:\n",
        "    sum=sum+i\n",
        "  else:\n",
        "    continue\n",
        "\n",
        "print(\"sum of all even numbers from 1 to 50 is\",sum)\n"
      ],
      "metadata": {
        "colab": {
          "base_uri": "https://localhost:8080/"
        },
        "id": "VeOdWDpYvPGP",
        "outputId": "3feac89b-670a-4933-9efa-ab3b7c4acd0b"
      },
      "execution_count": 37,
      "outputs": [
        {
          "output_type": "stream",
          "name": "stdout",
          "text": [
            "sum of all even numbers from 1 to 50 is 650\n"
          ]
        }
      ]
    },
    {
      "cell_type": "code",
      "source": [
        "# Q14-> Write a program to reverse a string using a while loop\n",
        "a=input(\"enter a string:\")\n",
        "b=\"\"\n",
        "i=len(a)-1\n",
        "while i>=0:\n",
        "  b=b+a[i]\n",
        "  i=i-1\n",
        "print(\"reversed string is\",b)"
      ],
      "metadata": {
        "colab": {
          "base_uri": "https://localhost:8080/"
        },
        "id": "mBLECLvFvxm-",
        "outputId": "7bf666ab-fb56-40aa-e3e4-ec18a80533bb"
      },
      "execution_count": 38,
      "outputs": [
        {
          "output_type": "stream",
          "name": "stdout",
          "text": [
            "enter a string:rudraksh\n",
            "reversed string is hskardur\n"
          ]
        }
      ]
    },
    {
      "cell_type": "code",
      "source": [
        "# Q15 ->Write a Python program to calculate the factorial of a number provided by the user using a while loop.\n",
        "\n",
        "a=int(input(\"enter a number:\"))\n",
        "fact=1\n",
        "while a!=0:\n",
        "  fact=fact*a\n",
        "  a=a-1\n",
        "\n",
        "print(\"Factorial of a number is \",fact)\n",
        ""
      ],
      "metadata": {
        "colab": {
          "base_uri": "https://localhost:8080/"
        },
        "id": "7IgkIWotwRqD",
        "outputId": "697d55c1-5ac9-4402-e0cf-dadb0cd0b105"
      },
      "execution_count": 40,
      "outputs": [
        {
          "output_type": "stream",
          "name": "stdout",
          "text": [
            "enter a number:5\n",
            "Factorial of a number is  120\n"
          ]
        }
      ]
    }
  ]
}